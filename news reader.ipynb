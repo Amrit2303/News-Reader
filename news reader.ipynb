{
 "cells": [
  {
   "cell_type": "code",
   "execution_count": 1,
   "metadata": {},
   "outputs": [
    {
     "data": {
      "text/plain": [
       "1"
      ]
     },
     "execution_count": 1,
     "metadata": {},
     "output_type": "execute_result"
    }
   ],
   "source": [
    "import win32com.client as wincl\n",
    "speak = wincl.Dispatch(\"SAPI.SpVoice\")\n",
    "speak.Speak(\"Hello Sejal\")"
   ]
  },
  {
   "cell_type": "code",
   "execution_count": 2,
   "metadata": {},
   "outputs": [],
   "source": [
    "import requests\n",
    "import json"
   ]
  },
  {
   "cell_type": "code",
   "execution_count": 3,
   "metadata": {},
   "outputs": [],
   "source": [
    "def news_reader(str):\n",
    "    anchor=wincl.Dispatch('SAPI.SpVoice')\n",
    "    anchor.Speak(str)"
   ]
  },
  {
   "cell_type": "code",
   "execution_count": 4,
   "metadata": {},
   "outputs": [
    {
     "name": "stdout",
     "output_type": "stream",
     "text": [
      "Airbnb launches 'anti-party' tech to spot potential rule-breakers at the point of booking\n",
      "VLC says India blocking site endangers its own citizens\n",
      "India's Exponent Energy may have found the secret to 15 min rapid EV charging\n",
      "Biden admin says about 20 models will still qualify for EV tax credits\n",
      "Getting power from poop, with Levidian's Loop\n",
      "Eat Just bags $25M, gets Alibaba's help to sell alternative protein in China\n",
      "YC grad QuotaBook raises $11M to scale its equity management platform\n",
      "American Airlines to buy 20 jets from Boom Supersonic\n",
      "Google makes robots smarter by teaching them about their limitations\n",
      "How a16z’s investment into Adam Neumann further solidifies the ‘concrete ceiling’\n"
     ]
    }
   ],
   "source": [
    "if __name__ == \"__main__\":\n",
    "    news_reader('Speak news for today')\n",
    "    url='https://newsapi.org/v2/top-headlines?sources=techcrunch&apiKey=3d74e5c5794342198513c08abe6e4975'\n",
    "    news=requests.get(url).text\n",
    "    news_dict=json.loads(news)\n",
    "    description=news_dict['articles']\n",
    "    \n",
    "    for samachar in description:\n",
    "        news_reader(samachar['title'])\n",
    "        print(samachar['title'])\n",
    "        news_reader(\"Moving on to the next one\")\n",
    "        \n",
    "        \n",
    "    news_reader('Thanks for listening')"
   ]
  },
  {
   "cell_type": "code",
   "execution_count": 5,
   "metadata": {},
   "outputs": [
    {
     "name": "stdout",
     "output_type": "stream",
     "text": [
      "10\n"
     ]
    }
   ],
   "source": [
    "print(news_dict['totalResults'])"
   ]
  },
  {
   "cell_type": "code",
   "execution_count": null,
   "metadata": {},
   "outputs": [],
   "source": []
  },
  {
   "cell_type": "code",
   "execution_count": null,
   "metadata": {},
   "outputs": [],
   "source": []
  }
 ],
 "metadata": {
  "kernelspec": {
   "display_name": "Python 3",
   "language": "python",
   "name": "python3"
  },
  "language_info": {
   "codemirror_mode": {
    "name": "ipython",
    "version": 3
   },
   "file_extension": ".py",
   "mimetype": "text/x-python",
   "name": "python",
   "nbconvert_exporter": "python",
   "pygments_lexer": "ipython3",
   "version": "3.8.5"
  }
 },
 "nbformat": 4,
 "nbformat_minor": 4
}
